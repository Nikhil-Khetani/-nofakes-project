{
 "cells": [
  {
   "cell_type": "code",
   "execution_count": 2,
   "metadata": {
    "colab": {
     "base_uri": "https://localhost:8080/"
    },
    "id": "NTGJDkaxsrnw",
    "outputId": "11cce6de-5e1f-438f-c505-9b8fd0bed3fd"
   },
   "outputs": [
    {
     "name": "stderr",
     "output_type": "stream",
     "text": [
      "Cloning into 'FALdetector'...\n",
      "Cloning into 'flownet2-pytorch'...\n",
      "Cloning into 'PCLNet'...\n"
     ]
    }
   ],
   "source": [
    "#code is used from these 3 repositories, have a look at them on GitHub or access the files from colab\n",
    "!git clone https://github.com/PeterWang512/FALdetector\n",
    "!git clone https://github.com/NVIDIA/flownet2-pytorch.git\n",
    "!git clone https://github.com/Kwanss/PCLNet"
   ]
  },
  {
   "cell_type": "code",
   "execution_count": 3,
   "metadata": {
    "id": "3W8h8ElvvMC7"
   },
   "outputs": [
    {
     "ename": "ModuleNotFoundError",
     "evalue": "No module named 'drn_seg'",
     "output_type": "error",
     "traceback": [
      "\u001b[1;31m---------------------------------------------------------------------------\u001b[0m",
      "\u001b[1;31mModuleNotFoundError\u001b[0m                       Traceback (most recent call last)",
      "\u001b[1;32m<ipython-input-3-feae23bb6ed4>\u001b[0m in \u001b[0;36m<module>\u001b[1;34m\u001b[0m\n\u001b[0;32m     16\u001b[0m \u001b[0msys\u001b[0m\u001b[1;33m.\u001b[0m\u001b[0mpath\u001b[0m\u001b[1;33m.\u001b[0m\u001b[0mappend\u001b[0m\u001b[1;33m(\u001b[0m\u001b[1;34m\"/content/FALdetector/networks/\"\u001b[0m\u001b[1;33m)\u001b[0m\u001b[1;33m\u001b[0m\u001b[1;33m\u001b[0m\u001b[0m\n\u001b[0;32m     17\u001b[0m \u001b[0msys\u001b[0m\u001b[1;33m.\u001b[0m\u001b[0mpath\u001b[0m\u001b[1;33m.\u001b[0m\u001b[0mappend\u001b[0m\u001b[1;33m(\u001b[0m\u001b[1;34m\"/content/FALdetector/\"\u001b[0m\u001b[1;33m)\u001b[0m\u001b[1;33m\u001b[0m\u001b[1;33m\u001b[0m\u001b[0m\n\u001b[1;32m---> 18\u001b[1;33m \u001b[1;32mfrom\u001b[0m \u001b[0mdrn_seg\u001b[0m \u001b[1;32mimport\u001b[0m \u001b[0mDRNSeg\u001b[0m\u001b[1;33m\u001b[0m\u001b[1;33m\u001b[0m\u001b[0m\n\u001b[0m\u001b[0;32m     19\u001b[0m \u001b[1;32mimport\u001b[0m \u001b[0mtorch\u001b[0m\u001b[1;33m\u001b[0m\u001b[1;33m\u001b[0m\u001b[0m\n\u001b[0;32m     20\u001b[0m \u001b[1;32mfrom\u001b[0m \u001b[0mtorch\u001b[0m\u001b[1;33m.\u001b[0m\u001b[0mautograd\u001b[0m \u001b[1;32mimport\u001b[0m \u001b[0mVariable\u001b[0m\u001b[1;33m\u001b[0m\u001b[1;33m\u001b[0m\u001b[0m\n",
      "\u001b[1;31mModuleNotFoundError\u001b[0m: No module named 'drn_seg'"
     ]
    }
   ],
   "source": [
    "# -*- coding: utf-8 -*-\n",
    "\"\"\"\n",
    "Created on Wed Nov 25 10:32:09 2020\n",
    "\n",
    "@author: peter fazekas\n",
    "\"\"\"\n",
    "#import necessary modules and append paths \n",
    "\n",
    "import os\n",
    "import csv\n",
    "import pickle\n",
    "import cv2\n",
    "from PIL import Image\n",
    "import matplotlib.pyplot as plt\n",
    "import sys\n",
    "sys.path.append(\"/content/FALdetector/networks/\")\n",
    "sys.path.append(\"/content/FALdetector/\")\n",
    "from drn_seg import DRNSeg\n",
    "import torch\n",
    "from torch.autograd import Variable\n",
    "from torch.nn import Linear, ReLU, CrossEntropyLoss,BCELoss, Sequential, Conv2d, MaxPool2d, Module, Softmax, BatchNorm2d, Dropout\n",
    "from torch.optim import Adam, SGD\n",
    "sys.path.append(\"/content/flownet2-pytorch/\")\n",
    "import losses\n",
    "from losses import MultiScale,EPE\n",
    "sys.path.append(\"/content/PCLNet/Losses/\")\n",
    "sys.path.append(\"/content/PCLNet/models/\")\n",
    "from utils.tools import *\n",
    "from utils.visualize import *\n",
    "import pandas as pd\n",
    "import numpy as np\n",
    "import torch.nn as nn\n",
    "# for reading and displaying images\n",
    "from skimage.io import imread\n",
    "# for creating validation set\n",
    "from sklearn.model_selection import train_test_split\n",
    "# for evaluating the model\n",
    "from sklearn.metrics import accuracy_score\n",
    "from tqdm import tqdm\n",
    "from skimage.transform import rescale, resize, downscale_local_mean\n",
    "from skimage import data, color\n",
    "from torchsummary import summary"
   ]
  },
  {
   "cell_type": "code",
   "execution_count": 1,
   "metadata": {
    "colab": {
     "base_uri": "https://localhost:8080/"
    },
    "id": "11kNl6zCuPPO",
    "outputId": "8d29e9a3-ae98-4c09-aac9-bd85fd4633cd"
   },
   "outputs": [
    {
     "ename": "ModuleNotFoundError",
     "evalue": "No module named 'google.colab'",
     "output_type": "error",
     "traceback": [
      "\u001b[1;31m---------------------------------------------------------------------------\u001b[0m",
      "\u001b[1;31mModuleNotFoundError\u001b[0m                       Traceback (most recent call last)",
      "\u001b[1;32m<ipython-input-1-9a0c9816384c>\u001b[0m in \u001b[0;36m<module>\u001b[1;34m\u001b[0m\n\u001b[1;32m----> 1\u001b[1;33m \u001b[1;32mfrom\u001b[0m \u001b[0mgoogle\u001b[0m\u001b[1;33m.\u001b[0m\u001b[0mcolab\u001b[0m \u001b[1;32mimport\u001b[0m \u001b[0mdrive\u001b[0m\u001b[1;33m\u001b[0m\u001b[1;33m\u001b[0m\u001b[0m\n\u001b[0m\u001b[0;32m      2\u001b[0m \u001b[0mdrive\u001b[0m\u001b[1;33m.\u001b[0m\u001b[0mmount\u001b[0m\u001b[1;33m(\u001b[0m\u001b[1;34m'/content/gdrive'\u001b[0m\u001b[1;33m)\u001b[0m\u001b[1;33m\u001b[0m\u001b[1;33m\u001b[0m\u001b[0m\n\u001b[0;32m      3\u001b[0m \u001b[0mget_ipython\u001b[0m\u001b[1;33m(\u001b[0m\u001b[1;33m)\u001b[0m\u001b[1;33m.\u001b[0m\u001b[0msystem\u001b[0m\u001b[1;33m(\u001b[0m\u001b[1;34m'ln -s /content/gdrive/My\\\\ Drive/ /mydrive'\u001b[0m\u001b[1;33m)\u001b[0m\u001b[1;33m\u001b[0m\u001b[1;33m\u001b[0m\u001b[0m\n\u001b[0;32m      4\u001b[0m \u001b[0mget_ipython\u001b[0m\u001b[1;33m(\u001b[0m\u001b[1;33m)\u001b[0m\u001b[1;33m.\u001b[0m\u001b[0msystem\u001b[0m\u001b[1;33m(\u001b[0m\u001b[1;34m'ls /mydrive'\u001b[0m\u001b[1;33m)\u001b[0m\u001b[1;33m\u001b[0m\u001b[1;33m\u001b[0m\u001b[0m\n\u001b[0;32m      5\u001b[0m \u001b[0mget_ipython\u001b[0m\u001b[1;33m(\u001b[0m\u001b[1;33m)\u001b[0m\u001b[1;33m.\u001b[0m\u001b[0msystem\u001b[0m\u001b[1;33m(\u001b[0m\u001b[1;34m'unzip /mydrive/nofakes/flow_pred_data/modified.zip -d modif'\u001b[0m\u001b[1;33m)\u001b[0m\u001b[1;33m\u001b[0m\u001b[1;33m\u001b[0m\u001b[0m\n",
      "\u001b[1;31mModuleNotFoundError\u001b[0m: No module named 'google.colab'"
     ]
    }
   ],
   "source": [
    "from google.colab import drive\n",
    "drive.mount('/content/gdrive')\n",
    "!ln -s /content/gdrive/My\\ Drive/ /mydrive\n",
    "!ls /mydrive\n",
    "!unzip /mydrive/nofakes/flow_pred_data/modified.zip -d modif\n",
    "!unzip /mydrive/nofakes/flow_pred_data/reference.zip -d ref\n",
    "!unzip /mydrive/nofakes/flow_pred_data/local_weight.zip"
   ]
  },
  {
   "cell_type": "code",
   "execution_count": 5,
   "metadata": {
    "colab": {
     "base_uri": "https://localhost:8080/"
    },
    "id": "RCc_Sot-srnw",
    "outputId": "46005dfb-0e07-41a3-b0bc-561c6a828346"
   },
   "outputs": [
    {
     "name": "stdout",
     "output_type": "stream",
     "text": [
      "the filenames are ['/content/ref/ref_004.jpg', '/content/ref/ref_003.jpg', '/content/ref/ref_005.jpg', '/content/ref/ref_006.jpg', '/content/ref/ref_001.jpg', '/content/modif/ref_004.jpg', '/content/modif/ref_003.jpg', '/content/modif/ref_005.jpg', '/content/modif/ref_006.jpg', '/content/modif/ref_001.jpg']\n"
     ]
    }
   ],
   "source": [
    "pathM =r\"/content/modif\"\n",
    "path =r\"/content/ref\"\n",
    "\n",
    "#if you guys can come up with a more efficient way to do this go ahead.\n",
    "height, width = 400, 400\n",
    "#variable to control how many training examples to import\n",
    "train_size = 5\n",
    "filenames = []\n",
    "   \n",
    "#Redo this part.... it doesnt import training images in order, I have printed out the filenames imported for convenience\n",
    "# 23/01/21 added augmentation, convert PNG to JPG, and read files in order \n",
    "\n",
    "def anticlockwise_rotation(img):\n",
    "    angle = random.randint(0,180)\n",
    "    return rotate(img, angle)\n",
    "\n",
    "def clockwise_rotation(img):\n",
    "    angle = random.randint(0,180)\n",
    "    return rotate(img, -angle)\n",
    "\n",
    "def h_flip(img):\n",
    "    return  np.fliplr(img)\n",
    "\n",
    "def v_flip(img):\n",
    "    return np.flipud(img)\n",
    "\n",
    "def add_noise(img):\n",
    "    return random_noise(img)\n",
    "\n",
    "def blur_image(img):\n",
    "    return cv2.GaussianBlur(img, (5,5),0)\n",
    "\n",
    "transformations = {'rotate anticlockwise': anticlockwise_rotation,\n",
    "                      'rotate clockwise': clockwise_rotation,\n",
    "                      'horizontal flip': h_flip, \n",
    "                      'vertical flip': v_flip,\n",
    "                   'warp shift': warp_shift,\n",
    "                   'adding noise': add_noise,\n",
    "                   'blurring image':blur_image\n",
    "                 }                #use dictionary to store names of functions \n",
    "    \n",
    "\n",
    "def createTrain(path, n_images):\n",
    "    \n",
    "    arr=[]\n",
    "    count = 0\n",
    "    for root, dirs, files in os.walk(path, topdown=True):\n",
    "        for name in files:\n",
    "          #make sure to change to correct image format .jpg or .png etc...\n",
    "            if '.png' in name:\n",
    "                \n",
    "                #print(name)\n",
    "                img = Image.open(r\"\" + path + \"/\" + str(name))\n",
    "                img.save(r\"\" + path + \"/\" str(name) + '.jpg')\n",
    "                \n",
    "            if '.jpg' in name:\n",
    "                \n",
    "                #print(name)\n",
    "                img = cv2.imread(r\"\" + path + \"/\" + str(name), flag = cv2.IMREAD_COLOR)\n",
    "                filenames.append(path + \"/\" + str(name))\n",
    "                \n",
    "                #keep image dimensions at 400 for now, the following is image interpolation\n",
    "                img_height, img_width, _ = img.shape\n",
    "                \n",
    "                #for the case where we shrink \n",
    "                if img_height > height & img_width > width:\n",
    "                    img = cv2.resize(img, (width, height), interpolation = cv2.INTER_LINEAR)\n",
    "                    \n",
    "                #for the case where we don't shrink   \n",
    "                else: img = cv2.resize(img, (width, height), interpolation = cv2.INTER_CUBIC)\n",
    "                    \n",
    "                arr.append(img)\n",
    "                \n",
    "                #choose random number of transformation to apply on the image\n",
    "                trans_count = random.randint(1, len(transformations)) \n",
    "                count_trans = 0\n",
    "    \n",
    "                while count_trans <= trans_count:\n",
    "            \n",
    "                    key = random.choice(list(transformations)) #randomly choosing method to call\n",
    "                    img = transformations[key](img)\n",
    "                    count_trans = count_trans + 1\n",
    "                \n",
    "                arr.append(img)\n",
    "                \n",
    "                count += 1\n",
    "                \n",
    "            #terminate once we imported the desired number of images\n",
    "            if(counter == n_images):\n",
    "                return np.array(arr)\n",
    "                    \n",
    "\n",
    "X_ref=createTrain(path,train_size)\n",
    "X_mod = createTrain(pathM,train_size)\n",
    "\n",
    "print(\"the filenames are\",filenames)\n",
    "shape = X_ref.shape"
   ]
  },
  {
   "cell_type": "code",
   "execution_count": 6,
   "metadata": {
    "colab": {
     "base_uri": "https://localhost:8080/"
    },
    "id": "xn4RUUb4srnx",
    "outputId": "8ba8b1a6-ec89-456d-d738-2ebe84e518e1"
   },
   "outputs": [
    {
     "name": "stdout",
     "output_type": "stream",
     "text": [
      "(5, 400, 400, 3)\n",
      "(400, 400)\n",
      "flow arr has shape (5, 400, 400, 2)\n"
     ]
    }
   ],
   "source": [
    "flow_arr =[]\n",
    "#calcOptical gives an error if I input all training data at once (doesnt seem very efficient atm)\n",
    "for i in range(shape[0]):\n",
    "    flow = cv2.calcOpticalFlowFarneback(cv2.cvtColor(X_ref[i],cv2.COLOR_BGR2GRAY), cv2.cvtColor(X_mod[i],cv2.COLOR_BGR2GRAY),None, 0.5, 3, 4, 2, 3, 1.2, 0)\n",
    "    flow_arr.append(flow)    \n",
    "print(X_mod.shape)\n",
    "flow_arr = np.array(flow_arr)\n",
    "mag, ang = cv2.cartToPolar(flow[...,0], flow[...,1])\n",
    "print(mag.shape)\n",
    "path = \"tester_before_train.png\"\n",
    "tester = save_heatmap_cv(X_mod[0], mag, path)\n",
    "#print(flow)\n",
    "print(\"flow arr has shape\",flow_arr.shape)\n",
    "#the code below is pretty similar to how the binary classifier is trained with a few changes \n",
    "#since the output shape is (2,height,width) for the vector field"
   ]
  },
  {
   "cell_type": "markdown",
   "metadata": {
    "id": "1WaL8ji9pVCE"
   },
   "source": [
    "**Discretize the flow fields**"
   ]
  },
  {
   "cell_type": "code",
   "execution_count": 7,
   "metadata": {
    "colab": {
     "base_uri": "https://localhost:8080/"
    },
    "id": "hKrXUh7npF0J",
    "outputId": "f43f4116-2888-4fb3-9f2d-add5a337108d"
   },
   "outputs": [
    {
     "name": "stdout",
     "output_type": "stream",
     "text": [
      "maximum flow value is:  313.09158\n",
      "minimum flow value is:  -106.895424\n",
      "121\n",
      "this is what the hashmap looks like {(-5, -5): 0, (-5, -4): 1, (-5, -3): 2, (-5, -2): 3, (-5, -1): 4, (-5, 0): 5, (-5, 1): 6, (-5, 2): 7, (-5, 3): 8, (-5, 4): 9, (-5, 5): 10, (-4, -5): 11, (-4, -4): 12, (-4, -3): 13, (-4, -2): 14, (-4, -1): 15, (-4, 0): 16, (-4, 1): 17, (-4, 2): 18, (-4, 3): 19, (-4, 4): 20, (-4, 5): 21, (-3, -5): 22, (-3, -4): 23, (-3, -3): 24, (-3, -2): 25, (-3, -1): 26, (-3, 0): 27, (-3, 1): 28, (-3, 2): 29, (-3, 3): 30, (-3, 4): 31, (-3, 5): 32, (-2, -5): 33, (-2, -4): 34, (-2, -3): 35, (-2, -2): 36, (-2, -1): 37, (-2, 0): 38, (-2, 1): 39, (-2, 2): 40, (-2, 3): 41, (-2, 4): 42, (-2, 5): 43, (-1, -5): 44, (-1, -4): 45, (-1, -3): 46, (-1, -2): 47, (-1, -1): 48, (-1, 0): 49, (-1, 1): 50, (-1, 2): 51, (-1, 3): 52, (-1, 4): 53, (-1, 5): 54, (0, -5): 55, (0, -4): 56, (0, -3): 57, (0, -2): 58, (0, -1): 59, (0, 0): 60, (0, 1): 61, (0, 2): 62, (0, 3): 63, (0, 4): 64, (0, 5): 65, (1, -5): 66, (1, -4): 67, (1, -3): 68, (1, -2): 69, (1, -1): 70, (1, 0): 71, (1, 1): 72, (1, 2): 73, (1, 3): 74, (1, 4): 75, (1, 5): 76, (2, -5): 77, (2, -4): 78, (2, -3): 79, (2, -2): 80, (2, -1): 81, (2, 0): 82, (2, 1): 83, (2, 2): 84, (2, 3): 85, (2, 4): 86, (2, 5): 87, (3, -5): 88, (3, -4): 89, (3, -3): 90, (3, -2): 91, (3, -1): 92, (3, 0): 93, (3, 1): 94, (3, 2): 95, (3, 3): 96, (3, 4): 97, (3, 5): 98, (4, -5): 99, (4, -4): 100, (4, -3): 101, (4, -2): 102, (4, -1): 103, (4, 0): 104, (4, 1): 105, (4, 2): 106, (4, 3): 107, (4, 4): 108, (4, 5): 109, (5, -5): 110, (5, -4): 111, (5, -3): 112, (5, -2): 113, (5, -1): 114, (5, 0): 115, (5, 1): 116, (5, 2): 117, (5, 3): 118, (5, 4): 119, (5, 5): 120}\n",
      "this is what the inverse looks like {0: [-5, -5], 1: [-5, -4], 2: [-5, -3], 3: [-5, -2], 4: [-5, -1], 5: [-5, 0], 6: [-5, 1], 7: [-5, 2], 8: [-5, 3], 9: [-5, 4], 10: [-5, 5], 11: [-4, -5], 12: [-4, -4], 13: [-4, -3], 14: [-4, -2], 15: [-4, -1], 16: [-4, 0], 17: [-4, 1], 18: [-4, 2], 19: [-4, 3], 20: [-4, 4], 21: [-4, 5], 22: [-3, -5], 23: [-3, -4], 24: [-3, -3], 25: [-3, -2], 26: [-3, -1], 27: [-3, 0], 28: [-3, 1], 29: [-3, 2], 30: [-3, 3], 31: [-3, 4], 32: [-3, 5], 33: [-2, -5], 34: [-2, -4], 35: [-2, -3], 36: [-2, -2], 37: [-2, -1], 38: [-2, 0], 39: [-2, 1], 40: [-2, 2], 41: [-2, 3], 42: [-2, 4], 43: [-2, 5], 44: [-1, -5], 45: [-1, -4], 46: [-1, -3], 47: [-1, -2], 48: [-1, -1], 49: [-1, 0], 50: [-1, 1], 51: [-1, 2], 52: [-1, 3], 53: [-1, 4], 54: [-1, 5], 55: [0, -5], 56: [0, -4], 57: [0, -3], 58: [0, -2], 59: [0, -1], 60: [0, 0], 61: [0, 1], 62: [0, 2], 63: [0, 3], 64: [0, 4], 65: [0, 5], 66: [1, -5], 67: [1, -4], 68: [1, -3], 69: [1, -2], 70: [1, -1], 71: [1, 0], 72: [1, 1], 73: [1, 2], 74: [1, 3], 75: [1, 4], 76: [1, 5], 77: [2, -5], 78: [2, -4], 79: [2, -3], 80: [2, -2], 81: [2, -1], 82: [2, 0], 83: [2, 1], 84: [2, 2], 85: [2, 3], 86: [2, 4], 87: [2, 5], 88: [3, -5], 89: [3, -4], 90: [3, -3], 91: [3, -2], 92: [3, -1], 93: [3, 0], 94: [3, 1], 95: [3, 2], 96: [3, 3], 97: [3, 4], 98: [3, 5], 99: [4, -5], 100: [4, -4], 101: [4, -3], 102: [4, -2], 103: [4, -1], 104: [4, 0], 105: [4, 1], 106: [4, 2], 107: [4, 3], 108: [4, 4], 109: [4, 5], 110: [5, -5], 111: [5, -4], 112: [5, -3], 113: [5, -2], 114: [5, -1], 115: [5, 0], 116: [5, 1], 117: [5, 2], 118: [5, 3], 119: [5, 4], 120: [5, 5]}\n",
      "(400, 400)\n",
      "(400, 400)\n",
      "(400, 400)\n",
      "(400, 400)\n",
      "(400, 400)\n"
     ]
    }
   ],
   "source": [
    "print(\"maximum flow value is: \",np.max(flow_arr))\n",
    "print(\"minimum flow value is: \",np.min(flow_arr))\n",
    "categorical_flow =[]\n",
    "dic ={}\n",
    "inv_dic={}\n",
    "counter =0\n",
    "#create a placeholder for the (u,v)->class pairs, hashmap is the easiest as its O(1) lookup time for the values\n",
    "#Note when obtaining flow values from classes it takes O(n) time to look up each one, not very efficient so\n",
    "#maybe re-do this part so that the hashmap key-value pairs are {class_pairs:(u,v)}\n",
    "\n",
    "#max and minimum allowed flow values\n",
    "max_f =5\n",
    "min_f=-5\n",
    "#fill up hashmap with values\n",
    "for i in range(min_f,max_f+1):\n",
    "  for j in range(min_f,max_f+1):\n",
    "    dic[i,j]=counter\n",
    "    inv_dic[counter]=[i,j]\n",
    "    counter+=1\n",
    "print(len(dic))\n",
    "print(\"this is what the hashmap looks like\",dic)\n",
    "print(\"this is what the inverse looks like\",inv_dic)\n",
    "dimens= flow_arr.shape\n",
    "\n",
    "#categorise the flow into distinct values\n",
    "for flows in flow_arr:\n",
    "  temp_flow =np.zeros((dimens[1],dimens[2]))\n",
    "  print(temp_flow.shape)\n",
    "  for i in range(dimens[1]):\n",
    "    for j in range(dimens[2]):\n",
    "      value = flows[i][j]\n",
    "      #makes sure we are not going over the max and min values \n",
    "      if (value[1]>max_f or value[1]<min_f or value[0]>max_f or value[0]<min_f):\n",
    "        continue\n",
    "      temp_flow[i][j]=dic[int(value[0]),int(value[1])]\n",
    "      \n",
    "  categorical_flow.append(temp_flow)\n",
    "categorical_flow = np.array(categorical_flow)\n",
    "#print(categorical_flow.shape)\n",
    "#print(categorical_flow[0][0])"
   ]
  },
  {
   "cell_type": "code",
   "execution_count": 9,
   "metadata": {
    "colab": {
     "base_uri": "https://localhost:8080/"
    },
    "id": "1Vqlb8wk3mrb",
    "outputId": "4e776677-ac00-49ed-9286-4d66f1cc5603"
   },
   "outputs": [
    {
     "name": "stdout",
     "output_type": "stream",
     "text": [
      "ytrain has shape (5, 400, 400)\n",
      "xtrain has shape (5, 400, 400, 3)\n"
     ]
    }
   ],
   "source": [
    "#Sanity check to make sure shapes add up\n",
    "\n",
    "print(\"ytrain has shape\",categorical_flow.shape)\n",
    "print(\"xtrain has shape\",X_mod.shape)\n",
    "#print(categorical_flow[0][100])"
   ]
  },
  {
   "cell_type": "code",
   "execution_count": null,
   "metadata": {
    "id": "aphClU4NrJ3E"
   },
   "outputs": [],
   "source": []
  },
  {
   "cell_type": "markdown",
   "metadata": {
    "id": "uM9U8BGOrJEv"
   },
   "source": [
    "**make sure flow is set up properly**"
   ]
  },
  {
   "cell_type": "code",
   "execution_count": null,
   "metadata": {
    "id": "UKYz6MyxrHrx"
   },
   "outputs": [],
   "source": []
  },
  {
   "cell_type": "code",
   "execution_count": 10,
   "metadata": {
    "colab": {
     "base_uri": "https://localhost:8080/"
    },
    "id": "z1WjTZ36yieZ",
    "outputId": "52732a02-b8df-4aeb-ff62-50f85a3b2268"
   },
   "outputs": [
    {
     "name": "stdout",
     "output_type": "stream",
     "text": [
      "Tesla T4\n"
     ]
    }
   ],
   "source": [
    "print(torch.cuda.get_device_name(0))"
   ]
  },
  {
   "cell_type": "code",
   "execution_count": null,
   "metadata": {
    "id": "1IGPecamsrnx"
   },
   "outputs": [],
   "source": [
    "#check if GPU is available\n",
    "cuda0 = torch.device('cuda:0')\n",
    "\n",
    "if torch.cuda.is_available():\n",
    "    device = 'cuda:{}'.format(\"cuda:0\")\n",
    "else:\n",
    "    device = 'cpu'\n",
    "\n",
    "\n",
    "model = DRNSeg(2)\n",
    "device = torch.device(cuda0)\n",
    "#state_dict = torch.load(\"local.pth\", map_location=device)\n",
    "#model.load_state_dict(state_dict['model'])\n",
    "model.to(device)\n",
    "#summary(model, (3, height, width))\n",
    "\n",
    "\n",
    "  \n"
   ]
  },
  {
   "cell_type": "code",
   "execution_count": null,
   "metadata": {
    "id": "tNP5FvjtW9A4"
   },
   "outputs": [],
   "source": [
    "temp = torch.randn(1, 3, 200, 200)\n",
    "temp = temp.cuda()\n",
    "sizes =[2,4,16,32,64,121]\n",
    "# Let's print it\n",
    "shape=model(temp).shape\n",
    "print(shape)\n",
    "\n",
    "#leave it out for now as I am using the DRNSeg(121)\n",
    "if False:\n",
    "  perPix_model = nn.Sequential(model,nn.ReLU(),\n",
    "                              nn.Conv2d(sizes[0],sizes[1],kernel_size=(1,1)).cuda(),nn.ReLU(),\n",
    "                              nn.Conv2d(sizes[1],sizes[2],kernel_size=(1,1)).cuda(),nn.ReLU(),\n",
    "                              nn.Conv2d(sizes[2],sizes[3],kernel_size=(1,1)).cuda(),nn.ReLU(),\n",
    "                               nn.Conv2d(sizes[3],sizes[4],kernel_size=(1,1)).cuda(),nn.ReLU(),\n",
    "                               nn.Conv2d(sizes[4],sizes[5],kernel_size=(1,1)).cuda(),\n",
    "                              nn.Tanh()\n",
    "                              )\n",
    "#just add a tanh activation onto it\n",
    "perPix_model = DRNSeg(len(dic)).to(device)\n",
    "summary(perPix_model, (3, height, width))\n",
    "perPix_model.to(device)"
   ]
  },
  {
   "cell_type": "markdown",
   "metadata": {
    "id": "jtVAZde-vW3w"
   },
   "source": [
    "**Training the Classifier**"
   ]
  },
  {
   "cell_type": "code",
   "execution_count": 167,
   "metadata": {
    "colab": {
     "base_uri": "https://localhost:8080/"
    },
    "id": "h1fXnALpsrnx",
    "outputId": "30aaf95e-70ee-4b09-c83b-27e808598d8d"
   },
   "outputs": [
    {
     "name": "stdout",
     "output_type": "stream",
     "text": [
      "train_x has shape (5, 3, 400, 400)\n",
      "train_y has shape:  (5, 2, 400, 400)\n",
      "xtrain shape torch.Size([5, 3, 400, 400])\n",
      "y shape torch.Size([5, 400, 400])\n"
     ]
    }
   ],
   "source": [
    "#changed crossentropy to MSE since cross entropy needs classes, we arent doing classification\n",
    "#other losses might work much better \n",
    "from torch.utils.data import TensorDataset, DataLoader\n",
    "optimizer = Adam(model.parameters(),lr=0.07) \n",
    "criterion =torch.nn.MSELoss()\n",
    "criterion_classif = nn.CrossEntropyLoss()\n",
    "\n",
    "\n",
    "\n",
    "\n",
    "#criterion = MultiScale(model)\n",
    "if torch.cuda.is_available():\n",
    "  model = model.cuda()\n",
    "  perPix_model =perPix_model.cuda()\n",
    "  criterion = criterion.cuda()\n",
    "  criterion_classif=criterion_classif.cuda()\n",
    "#convert to torch format\n",
    "train_x = X_mod\n",
    "train_x_orig=X_ref\n",
    "train_x = train_x.reshape(train_size,3, height, width)\n",
    "train_x_orig = train_x_orig.reshape(train_size,3, height, width)\n",
    "print(\"train_x has shape\",train_x.shape)\n",
    "train_x  = torch.from_numpy(train_x)\n",
    "\n",
    "#train_x_orig  = torch.from_numpy(train_x_orig).float()\n",
    "\n",
    "\n",
    "# converting the target into torch format\n",
    "train_y=flow_arr\n",
    "cat_shape = categorical_flow.shape\n",
    "categorical_label=torch.from_numpy(categorical_flow)\n",
    "train_y = train_y.reshape(train_size,2,height,width)\n",
    "print(\"train_y has shape: \",train_y.shape)\n",
    "train_y = torch.from_numpy(train_y).float()\n",
    "print(\"xtrain shape\",train_x.shape)\n",
    "print(\"y shape\",categorical_label.shape)\n",
    "\n",
    "\n",
    "#MAIN CHANGE, dataloader so that batches can be trained, use batch size of 1 and then multiple pictures can be trained\n",
    "my_dataset = TensorDataset(train_x,categorical_label) # create your datset\n",
    "b_size =1\n",
    "my_dataloader = DataLoader(my_dataset,batch_size=b_size)\n",
    "\n",
    "\n",
    "\n",
    "#this part of the code trains the classifier called perPix_model\n",
    "def train_classif(epoch,b_size):\n",
    "    correct =0\n",
    "    #iterate over batches\n",
    "    for idx,(x_t,y_t) in enumerate(my_dataloader):\n",
    "      perPix_model.train()\n",
    "      tr_loss = 0\n",
    "      \n",
    "      # getting the training set\n",
    "      x_train, y_categorical = Variable(x_t), Variable(y_t)\n",
    "      \n",
    "      # converting the data into GPU format\n",
    "      if torch.cuda.is_available():\n",
    "          x_train = x_train.cuda()\n",
    "          y_categorical = y_categorical.cuda()\n",
    "      optimizer.zero_grad()\n",
    "      \n",
    "      # prediction for training and validation set\n",
    "      output_train = perPix_model(x_train.float())\n",
    "      \n",
    "      \n",
    "      #print(\"y has shape\",y_categorical.shape)\n",
    "      label_output = torch.argmax(output_train,dim=1)\n",
    "      #print(\"label out shape\",label_output.shape)\n",
    "      #print(\"output shape\",output_train.shape)\n",
    "      Loss = criterion_classif(output_train, y_categorical.long())\n",
    "\n",
    "\n",
    "      #print(label_output)\n",
    "      #print(\"label output has shape\",label_output.shape)\n",
    "      correct = (label_output==y_categorical).sum().float()/(height*width*b_size)\n",
    "      \n",
    "\n",
    "      total = train_size\n",
    "      \n",
    "      #print(Loss)\n",
    "      train_losses.append(Loss)\n",
    "        \n",
    "        # computing the updated weights of all the model parameters\n",
    "      Loss.backward()\n",
    "      optimizer.step()\n",
    "      tr_loss = Loss.item()\n",
    "      if epoch%10 == 0:\n",
    "          # printing the validation loss\n",
    "          print('Epoch : ',epoch+1, \"for Batch:\",idx, '\\t', 'loss :',Loss.item(),\"accuracy: \",correct.item())\n",
    "    \n",
    "        "
   ]
  },
  {
   "cell_type": "code",
   "execution_count": 168,
   "metadata": {
    "colab": {
     "base_uri": "https://localhost:8080/"
    },
    "id": "uD_FcDy6ueFx",
    "outputId": "32d8db2f-aa8e-4149-9dec-e6d32930c0ab"
   },
   "outputs": [
    {
     "name": "stdout",
     "output_type": "stream",
     "text": [
      "torch.Size([3, 5])\n",
      "torch.Size([3])\n"
     ]
    }
   ],
   "source": [
    "loss = nn.CrossEntropyLoss()\n",
    "input = torch.randn(3, 5, requires_grad=True)\n",
    "target = torch.empty(3, dtype=torch.long).random_(5)\n",
    "output = loss(input, target)\n",
    "print(input.shape)\n",
    "print(target.shape)"
   ]
  },
  {
   "cell_type": "code",
   "execution_count": 169,
   "metadata": {
    "colab": {
     "base_uri": "https://localhost:8080/",
     "height": 588
    },
    "id": "UUxCx2RD4s8n",
    "outputId": "58ad5dce-60d2-4a37-a26e-169dbc430be2"
   },
   "outputs": [
    {
     "name": "stdout",
     "output_type": "stream",
     "text": [
      "Epoch :  1 for Batch: 0 \t loss : 0.10423929244279861 accuracy:  0.9637562036514282\n",
      "Epoch :  1 for Batch: 1 \t loss : 0.166868194937706 accuracy:  0.9423750042915344\n",
      "Epoch :  1 for Batch: 2 \t loss : 0.07131226360797882 accuracy:  0.9740937352180481\n",
      "Epoch :  1 for Batch: 3 \t loss : 0.07759983837604523 accuracy:  0.9693812131881714\n",
      "Epoch :  1 for Batch: 4 \t loss : 0.22416506707668304 accuracy:  0.9195874929428101\n",
      "Epoch :  11 for Batch: 0 \t loss : 0.09869193285703659 accuracy:  0.9654499888420105\n",
      "Epoch :  11 for Batch: 1 \t loss : 0.14501173794269562 accuracy:  0.9500187039375305\n",
      "Epoch :  11 for Batch: 2 \t loss : 0.06036115810275078 accuracy:  0.9777874946594238\n",
      "Epoch :  11 for Batch: 3 \t loss : 0.05663830041885376 accuracy:  0.9776312112808228\n",
      "Epoch :  11 for Batch: 4 \t loss : 0.18634094297885895 accuracy:  0.9321499466896057\n",
      "Epoch :  21 for Batch: 0 \t loss : 0.09874282777309418 accuracy:  0.9647249579429626\n",
      "Epoch :  21 for Batch: 1 \t loss : 0.14578962326049805 accuracy:  0.9482499957084656\n",
      "Epoch :  21 for Batch: 2 \t loss : 0.0636489987373352 accuracy:  0.9764249920845032\n",
      "Epoch :  21 for Batch: 3 \t loss : 0.062247175723314285 accuracy:  0.9753937125205994\n",
      "Epoch :  21 for Batch: 4 \t loss : 0.18794675171375275 accuracy:  0.9307687282562256\n"
     ]
    },
    {
     "ename": "KeyboardInterrupt",
     "evalue": "ignored",
     "output_type": "error",
     "traceback": [
      "\u001b[0;31m---------------------------------------------------------------------------\u001b[0m",
      "\u001b[0;31mKeyboardInterrupt\u001b[0m                         Traceback (most recent call last)",
      "\u001b[0;32m<ipython-input-169-6aacd5d7cba0>\u001b[0m in \u001b[0;36m<module>\u001b[0;34m()\u001b[0m\n\u001b[1;32m      5\u001b[0m \u001b[0moptimizer\u001b[0m \u001b[0;34m=\u001b[0m \u001b[0mAdam\u001b[0m\u001b[0;34m(\u001b[0m\u001b[0mperPix_model\u001b[0m\u001b[0;34m.\u001b[0m\u001b[0mparameters\u001b[0m\u001b[0;34m(\u001b[0m\u001b[0;34m)\u001b[0m\u001b[0;34m,\u001b[0m\u001b[0mlr\u001b[0m\u001b[0;34m=\u001b[0m\u001b[0;36m0.01\u001b[0m\u001b[0;34m,\u001b[0m\u001b[0mbetas\u001b[0m \u001b[0;34m=\u001b[0m\u001b[0;34m(\u001b[0m\u001b[0;36m0.9\u001b[0m\u001b[0;34m,\u001b[0m\u001b[0;36m0.999\u001b[0m\u001b[0;34m)\u001b[0m\u001b[0;34m)\u001b[0m\u001b[0;34m\u001b[0m\u001b[0;34m\u001b[0m\u001b[0m\n\u001b[1;32m      6\u001b[0m \u001b[0;32mfor\u001b[0m \u001b[0mepoch\u001b[0m \u001b[0;32min\u001b[0m \u001b[0mrange\u001b[0m\u001b[0;34m(\u001b[0m\u001b[0mn_epochs\u001b[0m\u001b[0;34m)\u001b[0m\u001b[0;34m:\u001b[0m\u001b[0;34m\u001b[0m\u001b[0;34m\u001b[0m\u001b[0m\n\u001b[0;32m----> 7\u001b[0;31m     \u001b[0mtrain_classif\u001b[0m\u001b[0;34m(\u001b[0m\u001b[0mepoch\u001b[0m\u001b[0;34m,\u001b[0m\u001b[0mb_size\u001b[0m\u001b[0;34m)\u001b[0m\u001b[0;34m\u001b[0m\u001b[0;34m\u001b[0m\u001b[0m\n\u001b[0m\u001b[1;32m      8\u001b[0m \u001b[0;34m\u001b[0m\u001b[0m\n",
      "\u001b[0;32m<ipython-input-167-31cc35de9c6b>\u001b[0m in \u001b[0;36mtrain_classif\u001b[0;34m(epoch, b_size)\u001b[0m\n\u001b[1;32m     85\u001b[0m       \u001b[0mLoss\u001b[0m\u001b[0;34m.\u001b[0m\u001b[0mbackward\u001b[0m\u001b[0;34m(\u001b[0m\u001b[0;34m)\u001b[0m\u001b[0;34m\u001b[0m\u001b[0;34m\u001b[0m\u001b[0m\n\u001b[1;32m     86\u001b[0m       \u001b[0moptimizer\u001b[0m\u001b[0;34m.\u001b[0m\u001b[0mstep\u001b[0m\u001b[0;34m(\u001b[0m\u001b[0;34m)\u001b[0m\u001b[0;34m\u001b[0m\u001b[0;34m\u001b[0m\u001b[0m\n\u001b[0;32m---> 87\u001b[0;31m       \u001b[0mtr_loss\u001b[0m \u001b[0;34m=\u001b[0m \u001b[0mLoss\u001b[0m\u001b[0;34m.\u001b[0m\u001b[0mitem\u001b[0m\u001b[0;34m(\u001b[0m\u001b[0;34m)\u001b[0m\u001b[0;34m\u001b[0m\u001b[0;34m\u001b[0m\u001b[0m\n\u001b[0m\u001b[1;32m     88\u001b[0m       \u001b[0;32mif\u001b[0m \u001b[0mepoch\u001b[0m\u001b[0;34m%\u001b[0m\u001b[0;36m10\u001b[0m \u001b[0;34m==\u001b[0m \u001b[0;36m0\u001b[0m\u001b[0;34m:\u001b[0m\u001b[0;34m\u001b[0m\u001b[0;34m\u001b[0m\u001b[0m\n\u001b[1;32m     89\u001b[0m           \u001b[0;31m# printing the validation loss\u001b[0m\u001b[0;34m\u001b[0m\u001b[0;34m\u001b[0m\u001b[0;34m\u001b[0m\u001b[0m\n",
      "\u001b[0;31mKeyboardInterrupt\u001b[0m: "
     ]
    }
   ],
   "source": [
    "n_epochs = 5000\n",
    "train_losses =[]\n",
    "correct =0\n",
    "#same parameters the FAL paper have used\n",
    "optimizer = Adam(perPix_model.parameters(),lr=0.01,betas =(0.9,0.999))\n",
    "for epoch in range(n_epochs):\n",
    "    train_classif(epoch,b_size)\n",
    "    "
   ]
  },
  {
   "cell_type": "markdown",
   "metadata": {
    "id": "moJiR05IJIv0"
   },
   "source": [
    "**plots the training loss**"
   ]
  },
  {
   "cell_type": "code",
   "execution_count": 136,
   "metadata": {
    "colab": {
     "base_uri": "https://localhost:8080/",
     "height": 282
    },
    "id": "fIXgHEy89vn4",
    "outputId": "8d2f81e1-4661-472c-8349-57b30938874d"
   },
   "outputs": [
    {
     "name": "stdout",
     "output_type": "stream",
     "text": [
      "116\n"
     ]
    },
    {
     "data": {
      "image/png": "[encoded data removed]",
      "text/plain": [
       "<Figure size 432x288 with 1 Axes>"
      ]
     },
     "metadata": {
      "needs_background": "light",
      "tags": []
     },
     "output_type": "display_data"
    }
   ],
   "source": [
    " print(len(train_losses))\n",
    "iter = np.linspace(0,len(train_losses),len(train_losses))\n",
    "plt.plot(iter,train_losses)\n",
    "plt.show()\n"
   ]
  },
  {
   "cell_type": "markdown",
   "metadata": {
    "id": "7Ar-XxVCve6k"
   },
   "source": [
    "**Training the regression, skip these blocks for now**"
   ]
  },
  {
   "cell_type": "code",
   "execution_count": null,
   "metadata": {
    "id": "d3oTou4fWELj"
   },
   "outputs": [],
   "source": [
    "MS_criterion= MultiScale(model)\n",
    "EPE_l,MS_l,REC_l=1.5,15,1\n",
    "\n",
    "#the function below is very messy atm, im just happy that it works, it needs to be cleaned up though\n",
    "#it just converts and reshapes tensors to numpy arrays and vica versa during training for the recreational loss\n",
    "\n",
    "#creates the recreation loss, unwarps image and compares with the original image\n",
    "def rec_loss(output_train,x_train,x_train_orig):\n",
    "    output_np = output_train.cpu()\n",
    "    #print(output_np.shape)\n",
    "    \n",
    "    #get shapes of output and convert/reshape into np array\n",
    "    with torch.no_grad():\n",
    "      output_np = np.array(output_np)  \n",
    "    shape = output_np.shape\n",
    "    output_np =np.reshape(output_np,(shape[0],shape[2],shape[3],shape[1]))\n",
    "    \n",
    "\n",
    "    #get shapes of x_train and convert/reshape into np array\n",
    "    x_train_np = x_train.detach().cpu().numpy()\n",
    "    shape2 =x_train_np.shape\n",
    "    x_train_np =np.reshape(x_train_np,(shape2[0],shape2[2],shape2[3],shape2[1]))\n",
    "\n",
    "\n",
    "    #print(x_train_np.shape,type(x_train_np))\n",
    "    x_warped=[]\n",
    "    #undo the warps using prediction flow field and manipulated image\n",
    "    for i in range(train_size):\n",
    "      x_warped.append(warp(x_train_np[i],output_np[i]))\n",
    "    #convert from torch to numpy and reshape\n",
    "    x_warped = np.array(x_warped)\n",
    "    shape_warp = x_warped.shape\n",
    "\n",
    "    #get unwarped image and turn it into torch format\n",
    "    x_warped = np.reshape(x_warped,(shape_warp[0],shape_warp[3],shape_warp[1],shape_warp[2]))\n",
    "    x_warp_tens = torch.from_numpy(x_warped).float()\n",
    "    #turn it into cuda tensor\n",
    "    if torch.cuda.is_available():\n",
    "      x_warp_tens = x_warp_tens.cuda()\n",
    "    #return the norm of the warped image-original image as the loss\n",
    "    return torch.norm(x_warp_tens-x_train_orig,p=2,dim=1).mean()\n",
    "\n",
    "\n",
    "\n",
    "def train_regress(epoch,EPE_l,MS_l,REC_l):\n",
    "    model.train()\n",
    "    tr_loss = 0\n",
    "    # getting the training set\n",
    "    x_train, y_train = Variable(train_x), Variable(train_y)\n",
    "    x_train_orig=Variable(train_x_orig)\n",
    "    # converting the data into GPU format\n",
    "    if torch.cuda.is_available():\n",
    "        x_train = x_train.cuda()\n",
    "        y_train = y_train.cuda()\n",
    "        x_train_orig=x_train_orig.cuda()  \n",
    "    # clearing the Gradients of the model parameters\n",
    "    optimizer.zero_grad()\n",
    "    # prediction for training and validation set\n",
    "    output_train = model(x_train)\n",
    "    print(\"output train shape\",output_train.shape)\n",
    "    print(output_train)\n",
    "    total = train_size\n",
    "    # computing the training and validation loss\n",
    "    #print(x_train.shape)\n",
    "    #print(output_train.shape)\n",
    "    print(\"y train shape\",y_train.shape)\n",
    "    print(y_train)\n",
    "    REC_loss = rec_loss(output_train,x_train,x_train_orig)\n",
    "    EPE_loss_train = EPE(output_train,y_train.float())\n",
    "    MS_loss_train,_ = MS_criterion(output_train, y_train.float())\n",
    "    \n",
    "    loss_train=EPE_l*EPE_loss_train+MS_l*MS_loss_train +REC_l*REC_loss \n",
    "    train_losses.append(loss_train)\n",
    "    \n",
    "    # computing the updated weights of all the model parameters\n",
    "    loss_train.backward()\n",
    "    optimizer.step()\n",
    "    tr_loss = loss_train.item()\n",
    "\n",
    "    if epoch%10 == 0:\n",
    "        # printing the validation loss\n",
    "        print('Epoch : ',epoch+1, '\\t', 'loss :',loss_train.item(),\"accuracy: \")\n",
    "        print(\"epe: \",EPE_loss_train.item(),\" MS: \",MS_loss_train.item(),\" reconstruct: \",REC_loss.item())\n",
    "        print(\"\\n\")"
   ]
  },
  {
   "cell_type": "code",
   "execution_count": null,
   "metadata": {
    "colab": {
     "base_uri": "https://localhost:8080/",
     "height": 316
    },
    "id": "iy-SmfT1srny",
    "outputId": "782b8697-c752-484f-864f-7423257dba4a"
   },
   "outputs": [
    {
     "ename": "TypeError",
     "evalue": "ignored",
     "output_type": "error",
     "traceback": [
      "\u001b[0;31m---------------------------------------------------------------------------\u001b[0m",
      "\u001b[0;31mTypeError\u001b[0m                                 Traceback (most recent call last)",
      "\u001b[0;32m<ipython-input-101-709029e6becb>\u001b[0m in \u001b[0;36m<module>\u001b[0;34m()\u001b[0m\n\u001b[1;32m      5\u001b[0m \u001b[0moptimizer\u001b[0m \u001b[0;34m=\u001b[0m \u001b[0mAdam\u001b[0m\u001b[0;34m(\u001b[0m\u001b[0mmodel\u001b[0m\u001b[0;34m.\u001b[0m\u001b[0mparameters\u001b[0m\u001b[0;34m(\u001b[0m\u001b[0;34m)\u001b[0m\u001b[0;34m,\u001b[0m\u001b[0mlr\u001b[0m\u001b[0;34m=\u001b[0m\u001b[0;36m0.0001\u001b[0m\u001b[0;34m,\u001b[0m\u001b[0mbetas\u001b[0m \u001b[0;34m=\u001b[0m\u001b[0;34m(\u001b[0m\u001b[0;36m0.9\u001b[0m\u001b[0;34m,\u001b[0m\u001b[0;36m0.999\u001b[0m\u001b[0;34m)\u001b[0m\u001b[0;34m)\u001b[0m\u001b[0;34m\u001b[0m\u001b[0;34m\u001b[0m\u001b[0m\n\u001b[1;32m      6\u001b[0m \u001b[0;32mfor\u001b[0m \u001b[0mepoch\u001b[0m \u001b[0;32min\u001b[0m \u001b[0mrange\u001b[0m\u001b[0;34m(\u001b[0m\u001b[0mn_epochs\u001b[0m\u001b[0;34m)\u001b[0m\u001b[0;34m:\u001b[0m\u001b[0;34m\u001b[0m\u001b[0;34m\u001b[0m\u001b[0m\n\u001b[0;32m----> 7\u001b[0;31m     \u001b[0mtrain_regress\u001b[0m\u001b[0;34m(\u001b[0m\u001b[0mepoch\u001b[0m\u001b[0;34m,\u001b[0m\u001b[0mEPE_l\u001b[0m\u001b[0;34m,\u001b[0m\u001b[0mMS_l\u001b[0m\u001b[0;34m,\u001b[0m\u001b[0mREC_l\u001b[0m\u001b[0;34m)\u001b[0m\u001b[0;34m\u001b[0m\u001b[0;34m\u001b[0m\u001b[0m\n\u001b[0m",
      "\u001b[0;32m<ipython-input-100-c65833d53575>\u001b[0m in \u001b[0;36mtrain_regress\u001b[0;34m(epoch, EPE_l, MS_l, REC_l)\u001b[0m\n\u001b[1;32m     48\u001b[0m     \u001b[0;31m# getting the training set\u001b[0m\u001b[0;34m\u001b[0m\u001b[0;34m\u001b[0m\u001b[0;34m\u001b[0m\u001b[0m\n\u001b[1;32m     49\u001b[0m     \u001b[0mx_train\u001b[0m\u001b[0;34m,\u001b[0m \u001b[0my_train\u001b[0m \u001b[0;34m=\u001b[0m \u001b[0mVariable\u001b[0m\u001b[0;34m(\u001b[0m\u001b[0mtrain_x\u001b[0m\u001b[0;34m)\u001b[0m\u001b[0;34m,\u001b[0m \u001b[0mVariable\u001b[0m\u001b[0;34m(\u001b[0m\u001b[0mtrain_y\u001b[0m\u001b[0;34m)\u001b[0m\u001b[0;34m\u001b[0m\u001b[0;34m\u001b[0m\u001b[0m\n\u001b[0;32m---> 50\u001b[0;31m     \u001b[0mx_train_orig\u001b[0m\u001b[0;34m=\u001b[0m\u001b[0mVariable\u001b[0m\u001b[0;34m(\u001b[0m\u001b[0mtrain_x_orig\u001b[0m\u001b[0;34m)\u001b[0m\u001b[0;34m\u001b[0m\u001b[0;34m\u001b[0m\u001b[0m\n\u001b[0m\u001b[1;32m     51\u001b[0m     \u001b[0;31m# converting the data into GPU format\u001b[0m\u001b[0;34m\u001b[0m\u001b[0;34m\u001b[0m\u001b[0;34m\u001b[0m\u001b[0m\n\u001b[1;32m     52\u001b[0m     \u001b[0;32mif\u001b[0m \u001b[0mtorch\u001b[0m\u001b[0;34m.\u001b[0m\u001b[0mcuda\u001b[0m\u001b[0;34m.\u001b[0m\u001b[0mis_available\u001b[0m\u001b[0;34m(\u001b[0m\u001b[0;34m)\u001b[0m\u001b[0;34m:\u001b[0m\u001b[0;34m\u001b[0m\u001b[0;34m\u001b[0m\u001b[0m\n",
      "\u001b[0;31mTypeError\u001b[0m: Variable data has to be a tensor, but got numpy.ndarray"
     ]
    }
   ],
   "source": [
    "n_epochs = 500\n",
    "train_losses =[]\n",
    "correct =0\n",
    "#same parameters the FAL paper have used\n",
    "optimizer = Adam(model.parameters(),lr=0.0001,betas =(0.9,0.999)) \n",
    "for epoch in range(n_epochs): \n",
    "    train_regress(epoch,EPE_l,MS_l,REC_l)"
   ]
  },
  {
   "cell_type": "code",
   "execution_count": 137,
   "metadata": {
    "id": "Bn7gOX8Usrny"
   },
   "outputs": [],
   "source": [
    "#function to\n",
    "def get_heatmap_cv(img, magn, max_flow_mag):\n",
    "    min_flow_mag = .5\n",
    "    cv_magn = np.clip(\n",
    "        255 * (magn - min_flow_mag) / (max_flow_mag - min_flow_mag),\n",
    "        a_min=0,\n",
    "        a_max=255).astype(np.uint8)\n",
    "    if img.dtype != np.uint8:\n",
    "        img = (255 * img).astype(np.uint8)\n",
    "        \n",
    "    heatmap_img = cv2.applyColorMap(cv_magn, cv2.COLORMAP_MAGMA)\n",
    "    heatmap_img = heatmap_img[..., ::-1]\n",
    "    h, w = magn.shape\n",
    "    img_alpha = np.ones((h, w), dtype=np.double)[:, :, None]\n",
    "    heatmap_alpha = np.clip(\n",
    "        magn / max_flow_mag, a_min=0, a_max=1)[:, :, None]**.7\n",
    "    heatmap_alpha[heatmap_alpha < .2]**.5\n",
    "    pm_hm = heatmap_img * heatmap_alpha\n",
    "    pm_img = img * img_alpha\n",
    "    cv_out = pm_hm + pm_img * (1 - heatmap_alpha)\n",
    "    cv_out = np.clip(cv_out, a_min=0, a_max=255).astype(np.uint8)\n",
    "    return cv_out\n",
    "\n",
    "def save_heatmap_cv(img, magn, path, max_flow_mag=2):\n",
    "    cv_out = get_heatmap_cv(img, magn, max_flow_mag)\n",
    "    out = Image.fromarray(cv_out)\n",
    "    plt.imshow(out)\n",
    "    plt.show()\n",
    "    out.save(path, quality=95)\n",
    "    return out"
   ]
  },
  {
   "cell_type": "code",
   "execution_count": 138,
   "metadata": {
    "id": "zQOqmEbmsrny"
   },
   "outputs": [],
   "source": [
    "from utils.tools import *\n",
    "from utils.visualize import *\n",
    "\n",
    "\n",
    "import torchvision.transforms as transforms\n",
    "tf = transforms.Compose([transforms.ToTensor(),\n",
    "                         transforms.Normalize(mean=[0.485, 0.456, 0.406],\n",
    "                                              std=[0.229, 0.224, 0.225])])"
   ]
  },
  {
   "cell_type": "code",
   "execution_count": 139,
   "metadata": {
    "id": "eAdi8lECsrny"
   },
   "outputs": [],
   "source": [
    "#quick sanity check again\n",
    "\n",
    "#print(flow.shape)\n",
    "#print(pic.size)"
   ]
  },
  {
   "cell_type": "markdown",
   "metadata": {
    "id": "DM2lLcMnIcha"
   },
   "source": [
    "**uses training image to predict the flow field**"
   ]
  },
  {
   "cell_type": "code",
   "execution_count": 143,
   "metadata": {
    "colab": {
     "base_uri": "https://localhost:8080/"
    },
    "id": "1wg4-nudsrny",
    "outputId": "c7503dcc-ccb9-4267-e948-4524ec241d49"
   },
   "outputs": [
    {
     "name": "stdout",
     "output_type": "stream",
     "text": [
      "torch.Size([1, 121, 400, 400])\n",
      "[[60 60 60 ... 60 60 60]\n",
      " [60 60 60 ... 60 60 60]\n",
      " [60 60 60 ... 60 60 60]\n",
      " ...\n",
      " [60 60 60 ... 60 60 60]\n",
      " [60 60 60 ... 60 60 60]\n",
      " [60 60 60 ... 60 60 60]]\n",
      "(2, 400, 400)\n",
      "(400, 400, 2)\n"
     ]
    }
   ],
   "source": [
    "test_ref = X_ref[2]\n",
    "test_mod = X_mod[2]\n",
    "ground_flow = cv2.calcOpticalFlowFarneback(cv2.cvtColor(test_ref,cv2.COLOR_BGR2GRAY), cv2.cvtColor(test_mod,cv2.COLOR_BGR2GRAY),None, 0.5, 3, 4, 2, 3, 1.2, 0)\n",
    "image = np.array([test_mod])\n",
    "\n",
    "shapes = image.shape\n",
    "\n",
    "image = np.reshape(image,(shapes[0],shapes[3],shapes[1],shapes[2]))\n",
    "image_tensor = torch.from_numpy(image)\n",
    "image_tensor= Variable(image_tensor)\n",
    "# converting the data into GPU format\n",
    "if torch.cuda.is_available():\n",
    "    image_tensor = image_tensor.cuda()\n",
    "with torch.no_grad():\n",
    "        flow = perPix_model(image_tensor.float()).float().cpu()\n",
    "        print(flow.shape)\n",
    "        flow = torch.argmax(flow,dim =1).numpy()\n",
    "        flow = np.reshape(flow,(shapes[1],shapes[2]))\n",
    "        \n",
    "        print(flow)\n",
    "        real_flow = np.zeros((2,400,400))\n",
    "        temp =0\n",
    "        for i in range(shapes[1]):\n",
    "          for j in range(shapes[2]):\n",
    "            real_flow[:,i,j]=list(dic.keys())[list(dic.values()).index(flow[i][j])]\n",
    "        print(real_flow.shape)\n",
    "        np.set_printoptions(edgeitems=3)\n",
    "        #print(real_flow)\n",
    "        real_flow = np.transpose(real_flow, (1, 2, 0))\n",
    "        print(real_flow.shape)\n",
    "        #print(real_flow)\n",
    "        w, h, _ = real_flow.shape"
   ]
  },
  {
   "cell_type": "code",
   "execution_count": 144,
   "metadata": {
    "colab": {
     "base_uri": "https://localhost:8080/",
     "height": 298
    },
    "id": "NH_Cwm4Psrny",
    "outputId": "1dac392d-6893-4fb8-cb3a-063f1867b760"
   },
   "outputs": [
    {
     "data": {
      "text/plain": [
       "<matplotlib.image.AxesImage at 0x7f9b325819b0>"
      ]
     },
     "execution_count": 144,
     "metadata": {
      "tags": []
     },
     "output_type": "execute_result"
    },
    {
     "data": {
      "image/png": "[encoded data removed]",
      "text/plain": [
       "<Figure size 432x288 with 1 Axes>"
      ]
     },
     "metadata": {
      "needs_background": "light",
      "tags": []
     },
     "output_type": "display_data"
    }
   ],
   "source": [
    "image = np.reshape(image,(h,w,3))\n",
    "image = Image.fromarray(image,\"RGB\")\n",
    "modified = image.resize((h, w),Image.BICUBIC)\n",
    "modified_np = np.asarray(modified)\n",
    "flow = flow_resize(real_flow, modified.size)\n",
    "#print(flow.shape)\n",
    "mag, ang = cv2.cartToPolar(flow[...,1], flow[...,0])\n",
    "#print(mag.shape)\n",
    "#print(modified_np.shape)\n",
    "#save your image to the folder\n",
    "path = \"tester.png\"\n",
    "tester =get_heatmap_cv(modified_np,mag,max_flow_mag=10)\n",
    "plt.title(\"Predicted modification\")\n",
    "plt.imshow(tester)"
   ]
  },
  {
   "cell_type": "markdown",
   "metadata": {
    "id": "RI3Yagn9IznO"
   },
   "source": [
    "**plots the ground truth heatmap on the image**"
   ]
  },
  {
   "cell_type": "code",
   "execution_count": 145,
   "metadata": {
    "colab": {
     "base_uri": "https://localhost:8080/",
     "height": 298
    },
    "id": "0AbiG2ez9tzm",
    "outputId": "8660509a-da1f-40bc-d7f2-10cf2008f2de"
   },
   "outputs": [
    {
     "data": {
      "text/plain": [
       "<matplotlib.image.AxesImage at 0x7f9b32561208>"
      ]
     },
     "execution_count": 145,
     "metadata": {
      "tags": []
     },
     "output_type": "execute_result"
    },
    {
     "data": {
      "image/png": "[encoded data removed]",
      "text/plain": [
       "<Figure size 432x288 with 1 Axes>"
      ]
     },
     "metadata": {
      "needs_background": "light",
      "tags": []
     },
     "output_type": "display_data"
    }
   ],
   "source": [
    "\n",
    "mag, ang = cv2.cartToPolar(ground_flow[...,0], ground_flow[...,1])\n",
    "#print(mag.shape)\n",
    "real = get_heatmap_cv(modified_np,mag,max_flow_mag=12)\n",
    "plt.title(\"Ground truth modification\")\n",
    "plt.imshow(real)"
   ]
  },
  {
   "cell_type": "code",
   "execution_count": null,
   "metadata": {
    "id": "26P3Me_CGm9H"
   },
   "outputs": [],
   "source": [
    "~"
   ]
  }
 ],
 "metadata": {
  "accelerator": "GPU",
  "colab": {
   "collapsed_sections": [],
   "name": "train_float_categorical_modified_21_12_2020.ipynb",
   "provenance": []
  },
  "kernelspec": {
   "display_name": "Python 3",
   "language": "python",
   "name": "python3"
  },
  "language_info": {
   "codemirror_mode": {
    "name": "ipython",
    "version": 3
   },
   "file_extension": ".py",
   "mimetype": "text/x-python",
   "name": "python",
   "nbconvert_exporter": "python",
   "pygments_lexer": "ipython3",
   "version": "3.7.1"
  }
 },
 "nbformat": 4,
 "nbformat_minor": 1
}
